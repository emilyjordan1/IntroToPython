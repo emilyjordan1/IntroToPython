{
  "nbformat": 4,
  "nbformat_minor": 0,
  "metadata": {
    "colab": {
      "name": "HW1_Jordan_Emily.ipynb",
      "provenance": [],
      "collapsed_sections": []
    },
    "kernelspec": {
      "name": "python3",
      "display_name": "Python 3"
    }
  },
  "cells": [
    {
      "cell_type": "markdown",
      "metadata": {
        "id": "hm8RAKinXsIP"
      },
      "source": [
        "## **Homework 1**\n",
        "\n",
        "### Create a copy of the notebook to start answering the questions. Name your notebook in the format HW1_lastname_firstname.ipynb to facilitate the grading process. \n",
        "\n",
        "### Answer all the questions, test your code to ensure there are no errors and the results are as expected. Once you have answered all the questions, save the final copy, then go to File-> click on Download.ipynb. Once the local copy has been downloaded, submit your file on Blackboard under the corresponding assignment section. Also provide us a link to your notebook during submission. \n",
        "\n",
        "### **The due date of this homework is 02/05/2021 (Friday).**\n",
        "\n",
        "### Please ensure you follow all the steps mentioned in the homework.\n",
        "\n",
        "### All the questions have a sample input and output to help you understand the question. Please note that your programs will be tested for other sets of inputs and outputs along with the sample provided. So test your code for other inputs.\n",
        "\n",
        "### You can submit your solutions any number of times until the deadline.\n"
      ]
    },
    {
      "cell_type": "markdown",
      "metadata": {
        "id": "uacFrEaZfcfq"
      },
      "source": [
        "##### Q1. Write a program that prompts the user to enter a password then prints the length of the password.\n",
        "\n",
        "```\n",
        "Enter your password: hello\n",
        "Your password is 5 long.\n",
        "```\n",
        "\n",
        "\n"
      ]
    },
    {
      "cell_type": "code",
      "metadata": {
        "id": "avPyES14ftCt",
        "colab": {
          "base_uri": "https://localhost:8080/"
        },
        "outputId": "0d272815-2a98-4df5-fd10-fdacb47ab4d8"
      },
      "source": [
        "# Type solution here\n",
        "userPassword = input(\"Enter your password: \")\n",
        "letters = len(userPassword)\n",
        "print(\"Your password is \" + str(letters) + \" long.\")"
      ],
      "execution_count": null,
      "outputs": [
        {
          "output_type": "stream",
          "text": [
            "Enter your password: hey\n",
            "3\n",
            "Your password is 3 long.\n"
          ],
          "name": "stdout"
        }
      ]
    },
    {
      "cell_type": "markdown",
      "metadata": {
        "id": "ekh-kABuItli"
      },
      "source": [
        ""
      ]
    },
    {
      "cell_type": "markdown",
      "metadata": {
        "id": "K1yko-xUItU3"
      },
      "source": [
        ""
      ]
    },
    {
      "cell_type": "markdown",
      "metadata": {
        "id": "behD0j_Of2TW"
      },
      "source": [
        "##### Q2. Write a program that prompts the user to enter their full name then prints the number of characters in their name (do not count spaces).\n",
        "\n",
        "```\n",
        "What is your name? Amulya Katti\n",
        "Amulya Katti your name has 11 characters.\n",
        "```"
      ]
    },
    {
      "cell_type": "code",
      "metadata": {
        "id": "XSdIRjwlhSlu",
        "colab": {
          "base_uri": "https://localhost:8080/"
        },
        "outputId": "7e74c8cf-ba5d-46a2-df3d-bcf1e24d225b"
      },
      "source": [
        "# Type solution here\n",
        "name = input(\"What is your name? \")\n",
        "nameLength = len(name) - name.count(' ')\n",
        "print(str(name) + \" your name has \" + str(nameLength) + \" characters.\")"
      ],
      "execution_count": null,
      "outputs": [
        {
          "output_type": "stream",
          "text": [
            "What is your name? emily  jordan\n",
            "emily  jordan your name has 11 characters.\n"
          ],
          "name": "stdout"
        }
      ]
    },
    {
      "cell_type": "markdown",
      "metadata": {
        "id": "5KHOWF6FhVHV"
      },
      "source": [
        "##### Q3. Write a program that prompts the user to enter a month (as a number), then prints the name of the month and the number of days in that month. Ensure that the user inputs a valid month and handle any error cases.\n",
        "\n",
        "```\n",
        "Enter the month number: 9\n",
        "September has 30 days\n",
        "```"
      ]
    },
    {
      "cell_type": "code",
      "metadata": {
        "id": "KhS-SAEThyTG",
        "colab": {
          "base_uri": "https://localhost:8080/"
        },
        "outputId": "3b940d1d-38b3-482b-f08f-c082292e5419"
      },
      "source": [
        "# Type solution here\n",
        "monthNumber = input(\"Enter the month number: \")\n",
        "if monthNumber == \"1\":\n",
        "    print (\"January has 31 days\")\n",
        "elif monthNumber == \"2\":\n",
        "  print (\"February has 28 days\")\n",
        "elif monthNumber == \"3\":\n",
        "  print (\"March has 31 days\")\n",
        "elif monthNumber == \"4\":\n",
        "  print ( \"April has 30 days\")\n",
        "elif monthNumber == \"5\":\n",
        "  print (\"May has 31 days\")\n",
        "elif monthNumber == \"6\":\n",
        "  print (\"June has 30 days\")\n",
        "elif monthNumber == \"7\":\n",
        "  print (\"July has 31 days\")\n",
        "elif monthNumber == \"8\":\n",
        "  print (\"August has 31 days\")\n",
        "elif monthNumber == \"9\":\n",
        "  print (\"September has 30 days\")\n",
        "elif monthNumber == \"10\":\n",
        "  print (\"October has 31 days\")\n",
        "elif monthNumber == \"11\":\n",
        "  print (\"November has 30 days\")\n",
        "elif monthNumber == \"12\":\n",
        "  print (\"December has 31 days\")\n",
        "else: \n",
        "    print(\"That number doesn't correspond to a month!\")\n",
        "\n"
      ],
      "execution_count": null,
      "outputs": [
        {
          "output_type": "stream",
          "text": [
            "Enter the month number: 6\n",
            "June has 30 days\n"
          ],
          "name": "stdout"
        }
      ]
    },
    {
      "cell_type": "markdown",
      "metadata": {
        "id": "O7lnAdGlh6Xa"
      },
      "source": [
        "##### Q4. Write a program that prompts the user to enter a loan amount, annual interest rate, and number of years  for a car loan. Then calculate and print the monthly payment amount.\n",
        "\n",
        "Note:\n",
        "```\n",
        "PMT= [PV*i*((1+i)^n)]/[((1+i)^n)-1]\n",
        "```\n",
        "PMT is the monthly payment\n",
        "\n",
        "PV is the loan amount\n",
        "\n",
        "i is the interest rate per month in decimal form (interest rate percentage divided by 12)\n",
        "\n",
        "n is the number of months (term of the loan in months)\n",
        "\n",
        "```\n",
        "Loan Amount: 30000.00\n",
        "Annual Interest Rate: 4.00\n",
        "Years: 5\n",
        "Your monthly payment is: $552.50\n",
        "```"
      ]
    },
    {
      "cell_type": "code",
      "metadata": {
        "id": "p4B5JH5GiTs9",
        "colab": {
          "base_uri": "https://localhost:8080/",
          "height": 266
        },
        "outputId": "26618bd6-fee4-4b8b-a6b6-da1a677b78a0"
      },
      "source": [
        "loanAmount = input(str(\"Loan Amount: \"))\n",
        "annualIR = input(str(\"Annual Interest Rate: \"))\n",
        "years = input(str(\"Years: \"))\n",
        "interestRate = (int(annualIR) / 12 / 100)\n",
        "months = years * 5\n",
        "pmt = 0 \n",
        "pmt = (int(loanAmount) * int(interestRate) * ((1 + int(interestRate))** int(months))) / (((1+ int(intezrestRate))**int(months))- 1)\n",
        "print(\"your monthly payment is: \", pmt)"
      ],
      "execution_count": null,
      "outputs": [
        {
          "output_type": "stream",
          "text": [
            "Loan Amount: 30000\n",
            "Annual Interest Rate: 4\n",
            "Years: 5\n"
          ],
          "name": "stdout"
        },
        {
          "output_type": "error",
          "ename": "ZeroDivisionError",
          "evalue": "ignored",
          "traceback": [
            "\u001b[0;31m---------------------------------------------------------------------------\u001b[0m",
            "\u001b[0;31mZeroDivisionError\u001b[0m                         Traceback (most recent call last)",
            "\u001b[0;32m<ipython-input-21-c15db922fbe7>\u001b[0m in \u001b[0;36m<module>\u001b[0;34m()\u001b[0m\n\u001b[1;32m      5\u001b[0m \u001b[0mmonths\u001b[0m \u001b[0;34m=\u001b[0m \u001b[0myears\u001b[0m \u001b[0;34m*\u001b[0m \u001b[0;36m5\u001b[0m\u001b[0;34m\u001b[0m\u001b[0;34m\u001b[0m\u001b[0m\n\u001b[1;32m      6\u001b[0m \u001b[0mpmt\u001b[0m \u001b[0;34m=\u001b[0m \u001b[0;36m0\u001b[0m\u001b[0;34m\u001b[0m\u001b[0;34m\u001b[0m\u001b[0m\n\u001b[0;32m----> 7\u001b[0;31m \u001b[0mpmt\u001b[0m \u001b[0;34m=\u001b[0m \u001b[0;34m(\u001b[0m\u001b[0mint\u001b[0m\u001b[0;34m(\u001b[0m\u001b[0mloanAmount\u001b[0m\u001b[0;34m)\u001b[0m \u001b[0;34m*\u001b[0m \u001b[0mint\u001b[0m\u001b[0;34m(\u001b[0m\u001b[0minterestRate\u001b[0m\u001b[0;34m)\u001b[0m \u001b[0;34m*\u001b[0m \u001b[0;34m(\u001b[0m\u001b[0;34m(\u001b[0m\u001b[0;36m1\u001b[0m \u001b[0;34m+\u001b[0m \u001b[0mint\u001b[0m\u001b[0;34m(\u001b[0m\u001b[0minterestRate\u001b[0m\u001b[0;34m)\u001b[0m\u001b[0;34m)\u001b[0m\u001b[0;34m**\u001b[0m \u001b[0mint\u001b[0m\u001b[0;34m(\u001b[0m\u001b[0mmonths\u001b[0m\u001b[0;34m)\u001b[0m\u001b[0;34m)\u001b[0m\u001b[0;34m)\u001b[0m\u001b[0;34m/\u001b[0m \u001b[0;34m(\u001b[0m\u001b[0;34m(\u001b[0m\u001b[0;34m(\u001b[0m\u001b[0;36m1\u001b[0m\u001b[0;34m+\u001b[0m \u001b[0mint\u001b[0m\u001b[0;34m(\u001b[0m\u001b[0minterestRate\u001b[0m\u001b[0;34m)\u001b[0m\u001b[0;34m)\u001b[0m\u001b[0;34m**\u001b[0m\u001b[0mint\u001b[0m\u001b[0;34m(\u001b[0m\u001b[0mmonths\u001b[0m\u001b[0;34m)\u001b[0m\u001b[0;34m)\u001b[0m\u001b[0;34m-\u001b[0m \u001b[0;36m1\u001b[0m\u001b[0;34m)\u001b[0m\u001b[0;34m\u001b[0m\u001b[0;34m\u001b[0m\u001b[0m\n\u001b[0m\u001b[1;32m      8\u001b[0m \u001b[0mprint\u001b[0m\u001b[0;34m(\u001b[0m\u001b[0;34m\"your monthly payment is: \"\u001b[0m\u001b[0;34m,\u001b[0m \u001b[0mpmt\u001b[0m\u001b[0;34m)\u001b[0m\u001b[0;34m\u001b[0m\u001b[0;34m\u001b[0m\u001b[0m\n",
            "\u001b[0;31mZeroDivisionError\u001b[0m: division by zero"
          ]
        }
      ]
    },
    {
      "cell_type": "markdown",
      "metadata": {
        "id": "SjiolJKgiWV-"
      },
      "source": [
        "##### Q5. Write a program to that prompts the user to enter a string. Then check whether or not the string is a palindrome.\n",
        "\n",
        "```\n",
        "Enter a string: Madam\n",
        "Madam, is a palindrome!\n",
        "```"
      ]
    },
    {
      "cell_type": "code",
      "metadata": {
        "id": "F5_M934Ri0es",
        "colab": {
          "base_uri": "https://localhost:8080/"
        },
        "outputId": "bada5c4e-5f90-4ce8-cbb4-5a695ec5a454"
      },
      "source": [
        "# Type solution here\n",
        "word = input(str(\"Enter a string: \"))\n",
        "backwardsWord = word[::-1]\n",
        "if backwardsWord == word: \n",
        "  print(word + \", is a palindrome\")\n",
        "else: \n",
        "  print(word + \", is not a palindrome\")"
      ],
      "execution_count": null,
      "outputs": [
        {
          "output_type": "stream",
          "text": [
            "Enter a string: hey\n",
            "hey, is not a palindrome\n"
          ],
          "name": "stdout"
        }
      ]
    },
    {
      "cell_type": "markdown",
      "metadata": {
        "id": "BLBD6n9vkJEu"
      },
      "source": [
        "##### Q6. Write a program to compute and print all possible combinations of change for \\$1. Denominations to be considered – quarter, dime, nickel, penny.\n",
        "\n",
        "Hint: Use nested loops (loops within loops for the various denominations of coins)\n",
        "\n",
        "```\n",
        "Change for $1:\n",
        "0 quarters, 0 dimes, 0 nickels, 100 pennies\n",
        "…\n",
        "4 quarters, 0 dimes, 0 nickels, 0 pennies\n",
        "```"
      ]
    },
    {
      "cell_type": "code",
      "metadata": {
        "id": "kAQsTjwDkZZ5",
        "colab": {
          "base_uri": "https://localhost:8080/"
        },
        "outputId": "8448c320-0e69-42f6-deee-4cec097a0906"
      },
      "source": [
        "print(\"change for $1: \")\n",
        "while True: \n",
        "  for quarters in range(25, 101):\n",
        "    q = quarters * 4\n",
        "    for dimes in range(10, 101):\n",
        "      d = dimes * 10 \n",
        "      for nickels in range(5, 101):\n",
        "        n = nickels * 20\n",
        "        for pennies in range(1, 101):\n",
        "          p = pennies * 100\n",
        "  if (q + d + n + p) == 100: \n",
        "    print(q, \"quarters\", d, \"dimes\", n, \"nickels\", p, \"pennies\")\n",
        "    break"
      ],
      "execution_count": null,
      "outputs": [
        {
          "output_type": "stream",
          "text": [
            "change for $1: \n"
          ],
          "name": "stdout"
        }
      ]
    },
    {
      "cell_type": "code",
      "metadata": {
        "id": "UfbD3Gyf72_G"
      },
      "source": [
        "for dimes in range(10, 101):\n",
        "    d = dimes * 10 \n",
        "    for nickels in range(5, 101):\n",
        "      n = nickels * 20\n",
        "      for pennies in range(1, 101):\n",
        "        p = pennies * 100\n",
        "  if q + d + n + p == 100: \n",
        "    print(q, \"quarters\", d, \"dimes\", n, \"nickels\", p, \"pennies\")"
      ],
      "execution_count": null,
      "outputs": []
    },
    {
      "cell_type": "markdown",
      "metadata": {
        "id": "rUPDjYiIkbgs"
      },
      "source": [
        "##### Q7. Ask the user to enter two positive integers between 1 and 100. Read those integers. Then output a multiplication table of the first number times the second number. \n",
        "\n",
        "Note: You have to ensure the entered numbers are between 1 and 100 only.\n",
        "\n",
        "```\n",
        "Please enter an integer: 5\n",
        "Please enter another integer: 20\n",
        "5 x 1 = 5\n",
        "5 x 2 = 10\n",
        "5 x 3 = 15\n",
        "…\n",
        "5 x 20 = 100\n",
        "```"
      ]
    },
    {
      "cell_type": "code",
      "metadata": {
        "id": "Qg0Orv1klHzA",
        "colab": {
          "base_uri": "https://localhost:8080/"
        },
        "outputId": "803aa0b8-2009-4af8-cf4b-9f66beacbaf9"
      },
      "source": [
        "number1 = int(input((\"Please enter an integer: \")))\n",
        "number2 = int(input((\"Please enter another integer: \")))\n",
        "for i in range(1, 1 + number2):\n",
        "  print(number1, 'x', i, \"=\", number1 * i)\n",
        "\n"
      ],
      "execution_count": null,
      "outputs": [
        {
          "output_type": "stream",
          "text": [
            "Please enter an integer: 4\n",
            "Please enter another integer: 6\n",
            "4 x 1 = 4\n",
            "4 x 2 = 8\n",
            "4 x 3 = 12\n",
            "4 x 4 = 16\n",
            "4 x 5 = 20\n",
            "4 x 6 = 24\n"
          ],
          "name": "stdout"
        }
      ]
    },
    {
      "cell_type": "code",
      "metadata": {
        "colab": {
          "base_uri": "https://localhost:8080/"
        },
        "id": "z6-n0R644Umz",
        "outputId": "4ae06c7e-83b5-47d0-c2ff-5c1f570826c5"
      },
      "source": [
        "num1 = int(input(\"Please enter an integer: \"))\n",
        "num2 = int(input(\"Please enter another integer: \"))\n",
        "\n",
        "for i in range(1, 1 + num2):\n",
        "    print(num1, 'x', i, \"=\", num1 * i)\n"
      ],
      "execution_count": null,
      "outputs": [
        {
          "output_type": "stream",
          "text": [
            "Please enter an integer: 3\n",
            "Please enter another integer: 5\n",
            "3 x 1 = 3\n",
            "3 x 2 = 6\n",
            "3 x 3 = 9\n",
            "3 x 4 = 12\n",
            "3 x 5 = 15\n"
          ],
          "name": "stdout"
        }
      ]
    },
    {
      "cell_type": "markdown",
      "metadata": {
        "id": "SbnbPUPTlLD9"
      },
      "source": [
        "##### Q8. Write a program to ask the user to enter a password. Then check to see if it is a valid password based on these requirements -\n",
        "\n",
        "Must be at least 8 characters long\n",
        "\n",
        "Must contain both uppercase and lowercase letters\n",
        "\n",
        "Must contain at least one number between 0-9\n",
        "\n",
        "Must contain a special character -!,@,#,$\n",
        "\n",
        "If the password is not valid, ask the user to re-enter. This should continue until the user enters a valid password. After a valid password is entered, print Access Granted!\n",
        "\n",
        "```\n",
        "Please enter a password. Follow these requirements - \n",
        "a. Must be at least 8 characters long\n",
        "b. Must contain both uppercase and lowercase letters\n",
        "c. Must contain at least one number between 0-9\n",
        "d. Must contain a special character -!,@,#,$\n",
        "Password: HelloWorld1\n",
        "Invalid password. Try again!\n",
        "Password: Hello@World1\n",
        "Access Granted!\n",
        "```\n"
      ]
    },
    {
      "cell_type": "code",
      "metadata": {
        "id": "OXmZ177Rl-RV",
        "colab": {
          "base_uri": "https://localhost:8080/"
        },
        "outputId": "d478e340-60bd-40c5-b265-b74e11605373"
      },
      "source": [
        "print(\"Please enter a password. Follow these requirements:\")\n",
        "print(\"a. Must be at least 8 characters long\")\n",
        "print(\"b. Must contain both uppercase and lowercase letters\")\n",
        "print(\"c. Must contain at least one number between 0-9\")\n",
        "print(\"d. Must contain a special character -!,@,#,$\")\n",
        "passAttempt = input(\"Password: \")\n",
        "\n",
        "upperCount = 0 \n",
        "lowerCount = 0\n",
        "specialChar = 0\n",
        "numberCount = 0 \n",
        "while passAttempt == False:\n",
        "  if (len(passAttempt) >= 8): \n",
        "      for i in passAttempt:\n",
        "\n",
        "        if (i.isupper()):\n",
        "          upperCount+=1\n",
        "          continue\n",
        "\n",
        "        if (i.islower()):\n",
        "          lowerCount+=1\n",
        "          continue\n",
        "\n",
        "        if (i == '!' or '@' or '#' or '$'):\n",
        "          specialChar +=1\n",
        "          continue\n",
        "        \n",
        "        if (i.isdigit()):\n",
        "          numberCount+=1\n",
        "          continue\n",
        "  if (upperCount>=1 and lowerCount>=1 and specialChar>=1 and len(passAttempt)>=8):\n",
        "    print(\"That's a valid password! Your password is: \" +passAttempt)\n",
        "    break\n",
        "  else:\n",
        "    print(\"That is not a correct password!\")\n",
        "\n"
      ],
      "execution_count": null,
      "outputs": [
        {
          "output_type": "stream",
          "text": [
            "Please enter a password. Follow these requirements:\n",
            "a. Must be at least 8 characters long\n",
            "b. Must contain both uppercase and lowercase letters\n",
            "c. Must contain at least one number between 0-9\n",
            "d. Must contain a special character -!,@,#,$\n",
            "Password: Toulouse1093!\n"
          ],
          "name": "stdout"
        }
      ]
    },
    {
      "cell_type": "markdown",
      "metadata": {
        "id": "-0sdutTDnTKA"
      },
      "source": [
        "##### Q9. Given the score sheet of participants in a competition, you are required to find the runner-up score. You are given scores in a list. Find the score of the runner-up.\n",
        "\n",
        "```\n",
        "list1 - [2, 3, 6, 6, 5]\n",
        "runner_up - 5\n",
        "\n",
        "list2 - [1, 7, 5, 3, 10, 4, 5, 5, 6, 11]\n",
        "runner_up - 10\n",
        "```"
      ]
    },
    {
      "cell_type": "code",
      "metadata": {
        "id": "12YP9OaqpGRK",
        "colab": {
          "base_uri": "https://localhost:8080/"
        },
        "outputId": "902ea4f2-3b96-4378-e78e-1c6c3aa10ffb"
      },
      "source": [
        "list1 = [ 6, 5, 2, 3, 4, 9]\n",
        "\n",
        "list1.sort()\n",
        "print(list1)\n",
        "print(\"Runner up is: \", list1[-2])\n",
        "\n",
        "list2 =  [1, 7, 5, 3, 10, 4, 5, 5, 6, 11]\n",
        "list2.sort()\n",
        "print(list2)\n",
        "print(\"Runner up is: \", list2[-2])\n"
      ],
      "execution_count": null,
      "outputs": [
        {
          "output_type": "stream",
          "text": [
            "[2, 3, 4, 5, 6, 9]\n",
            "Runner up is:  6\n",
            "[1, 3, 4, 5, 5, 5, 6, 7, 10, 11]\n",
            "Runner up is:  10\n"
          ],
          "name": "stdout"
        }
      ]
    },
    {
      "cell_type": "code",
      "metadata": {
        "id": "goVlf_0qxh_X"
      },
      "source": [
        "#TRIAL STUFF GOES HERE\n",
        "\n",
        "# Type solution here\n",
        "invalid = False\n",
        "\n",
        "numOptions = [0, 1, 2, 3, 4, 5, 6, 7, 8, 9]\n",
        "for x in passAttempt: \n",
        "  if passAttempt.isalpha:\n",
        "    invalid = True\n",
        "  if passAttempt.isnumeric:\n",
        "    invalid = True\n",
        "\n",
        " # counting lowercase alphabets  \n",
        "        if (i.islower()): \n",
        "            l+=1            \n",
        "  \n",
        "        # counting uppercase alphabets \n",
        "        if (i.isupper()): \n",
        "            u+=1            \n",
        "  \n",
        "        # counting digits \n",
        "        if (i.isdigit()): \n",
        "            d+=1            \n",
        "  \n",
        "        # counting the mentioned special characters \n",
        "        if(i=='@'or i=='$' or i=='_'): \n",
        "            p+=1           \n",
        "if (l>=1 and u>=1 and p>=1 and d>=1 and l+p+u+d==len(s)): \n",
        "    print(\"Valid Password\") \n",
        "else: \n",
        "    print(\"Invalid Password\") \n",
        "\n",
        "\n",
        "\n",
        "\n",
        "    sorted(participants)\n",
        "print(participants[])\n",
        "\n"
      ],
      "execution_count": null,
      "outputs": []
    }
  ]
}